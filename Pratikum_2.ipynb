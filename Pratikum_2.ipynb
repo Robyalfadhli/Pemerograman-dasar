{
  "nbformat": 4,
  "nbformat_minor": 0,
  "metadata": {
    "colab": {
      "provenance": [],
      "authorship_tag": "ABX9TyN0bf9Si4eon97HsJxuFryr",
      "include_colab_link": true
    },
    "kernelspec": {
      "name": "python3",
      "display_name": "Python 3"
    },
    "language_info": {
      "name": "python"
    }
  },
  "cells": [
    {
      "cell_type": "markdown",
      "metadata": {
        "id": "view-in-github",
        "colab_type": "text"
      },
      "source": [
        "<a href=\"https://colab.research.google.com/github/Robyalfadhli/Pemerograman-dasar/blob/main/Pratikum_2.ipynb\" target=\"_parent\"><img src=\"https://colab.research.google.com/assets/colab-badge.svg\" alt=\"Open In Colab\"/></a>"
      ]
    },
    {
      "cell_type": "code",
      "execution_count": 31,
      "metadata": {
        "colab": {
          "base_uri": "https://localhost:8080/"
        },
        "id": "qvaAeRFtROzo",
        "outputId": "6024f67f-3d0f-48a4-9613-aa39881b6309"
      },
      "outputs": [
        {
          "output_type": "stream",
          "name": "stdout",
          "text": [
            "Roby\n",
            "Alfadhli\n",
            "19\n",
            "False\n"
          ]
        }
      ],
      "source": [
        "firstName = \"Roby\"\n",
        "lastName = \"Alfadhli\"\n",
        "age = 19\n",
        "isMarried = False\n",
        "\n",
        "print (firstName)\n",
        "print (lastName)\n",
        "print (age)\n",
        "print (isMarried)"
      ]
    },
    {
      "cell_type": "code",
      "source": [
        "data_diri = {\n",
        "    \"firstName\": \"Roby\",\n",
        "    \"lastName\": \"Alfadhli\",\n",
        "    \"age\": 19,\n",
        "    \"isMarried\": False\n",
        "}\n",
        "\n",
        "print (data_diri)"
      ],
      "metadata": {
        "colab": {
          "base_uri": "https://localhost:8080/"
        },
        "id": "Nz5k0ZuW70m-",
        "outputId": "83ec5ee7-298e-4ba9-ed7b-46161dc622e6"
      },
      "execution_count": 32,
      "outputs": [
        {
          "output_type": "stream",
          "name": "stdout",
          "text": [
            "{'firstName': 'Roby', 'lastName': 'Alfadhli', 'age': 19, 'isMarried': False}\n"
          ]
        }
      ]
    },
    {
      "cell_type": "code",
      "source": [
        "inspeksi = [\n",
        "    \"pemahaman terhadap rencana dan desain\",\n",
        "    \"ketersediaan bahan dan peralatan\",\n",
        "    \"pengawasan pekerjaan\",\n",
        "    \"kualitas konstruksi\",\n",
        "    \"keselamatan kerja\",\n",
        "    \"koordinasi dengan pemilik proyek\"\n",
        "]\n",
        "\n",
        "print(\"Daftar Inspeksi Proyek:\")\n",
        "for i, item in enumerate(inspeksi, start=1):\n",
        "    print(f\"{i}. {item}\")\n"
      ],
      "metadata": {
        "colab": {
          "base_uri": "https://localhost:8080/"
        },
        "id": "eiJ5q8Um_171",
        "outputId": "3e49e287-db08-4566-cb90-4df78f6d43bf"
      },
      "execution_count": 33,
      "outputs": [
        {
          "output_type": "stream",
          "name": "stdout",
          "text": [
            "Daftar Inspeksi Proyek:\n",
            "1. pemahaman terhadap rencana dan desain\n",
            "2. ketersediaan bahan dan peralatan\n",
            "3. pengawasan pekerjaan\n",
            "4. kualitas konstruksi\n",
            "5. keselamatan kerja\n",
            "6. koordinasi dengan pemilik proyek\n"
          ]
        }
      ]
    },
    {
      "cell_type": "code",
      "source": [
        "startTime = {\n",
        "    \"HH\": 9,\n",
        "    \"mm\": 23,\n",
        "    \"ss\": 57\n",
        "}\n",
        "\n",
        "endTime = {\n",
        "    \"HH\": 15,\n",
        "    \"mm\": 25,\n",
        "    \"ss\": 43\n",
        "}\n",
        "\n",
        "print(\"Waktu Datang :\", startTime)\n",
        "print(\"Waktu Pulang :\", endTime)\n"
      ],
      "metadata": {
        "colab": {
          "base_uri": "https://localhost:8080/"
        },
        "id": "ZaVqI2h1A9iC",
        "outputId": "6eaeb30d-580f-41da-bf1a-cc9bb7278de9"
      },
      "execution_count": 34,
      "outputs": [
        {
          "output_type": "stream",
          "name": "stdout",
          "text": [
            "Waktu Datang : {'HH': 9, 'mm': 23, 'ss': 57}\n",
            "Waktu Pulang : {'HH': 15, 'mm': 25, 'ss': 43}\n"
          ]
        }
      ]
    },
    {
      "cell_type": "code",
      "source": [
        "katalog_A = {\"Panci\", \"Wajan\", \"Sendok\", \"Garpu\"}\n",
        "katalog_B = {\"Piring\", \"Gelas\", \"Sendok\", \"Pisau\"}\n",
        "\n",
        "produk_diskon = (\"Wajan\", \"Pisau\", \"Blender\", \"Piring\")\n",
        "\n",
        "katalog_lengkap = katalog_A.union(katalog_B)\n",
        "\n",
        "produk_promo_aktif = katalog_lengkap.intersection(produk_diskon)\n",
        "\n",
        "print(\"Katalog Lengkap       :\", katalog_lengkap)\n",
        "print(\"Produk Promo Aktif    :\", produk_promo_aktif)\n"
      ],
      "metadata": {
        "colab": {
          "base_uri": "https://localhost:8080/"
        },
        "id": "PQ39PuBgC2an",
        "outputId": "2048ac13-c21e-4578-9ecc-a2c3e1849b27"
      },
      "execution_count": 35,
      "outputs": [
        {
          "output_type": "stream",
          "name": "stdout",
          "text": [
            "Katalog Lengkap       : {'Gelas', 'Pisau', 'Sendok', 'Garpu', 'Piring', 'Wajan', 'Panci'}\n",
            "Produk Promo Aktif    : {'Wajan', 'Pisau', 'Piring'}\n"
          ]
        }
      ]
    }
  ]
}
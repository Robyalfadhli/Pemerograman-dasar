{
  "nbformat": 4,
  "nbformat_minor": 0,
  "metadata": {
    "colab": {
      "provenance": [],
      "authorship_tag": "ABX9TyNH2UOf3JFLadnD+5F2+gUw",
      "include_colab_link": true
    },
    "kernelspec": {
      "name": "python3",
      "display_name": "Python 3"
    },
    "language_info": {
      "name": "python"
    }
  },
  "cells": [
    {
      "cell_type": "markdown",
      "metadata": {
        "id": "view-in-github",
        "colab_type": "text"
      },
      "source": [
        "<a href=\"https://colab.research.google.com/github/Robyalfadhli/Pemerograman-dasar/blob/main/Tugas%206.ipynb\" target=\"_parent\"><img src=\"https://colab.research.google.com/assets/colab-badge.svg\" alt=\"Open In Colab\"/></a>"
      ]
    },
    {
      "cell_type": "code",
      "source": [
        "print(\"Halo, Roby!\")"
      ],
      "metadata": {
        "colab": {
          "base_uri": "https://localhost:8080/"
        },
        "id": "XgLX76CJPS1z",
        "outputId": "32a2cbc2-1409-4ec4-816d-20957a95cfbf"
      },
      "execution_count": 5,
      "outputs": [
        {
          "output_type": "stream",
          "name": "stdout",
          "text": [
            "Halo, Roby!\n"
          ]
        }
      ]
    },
    {
      "cell_type": "code",
      "source": [
        "nama = \"Python\"\n",
        "print(len(nama))\n",
        "# Output: 6\n"
      ],
      "metadata": {
        "colab": {
          "base_uri": "https://localhost:8080/"
        },
        "id": "IInQvsHoSmpI",
        "outputId": "ceacb8b7-89b4-41bd-a9ae-57a608113d7a"
      },
      "execution_count": 6,
      "outputs": [
        {
          "output_type": "stream",
          "name": "stdout",
          "text": [
            "6\n"
          ]
        }
      ]
    },
    {
      "cell_type": "code",
      "source": [
        "angka = 10\n",
        "print(type(angka))\n",
        "# Output: <class 'int'>\n"
      ],
      "metadata": {
        "colab": {
          "base_uri": "https://localhost:8080/"
        },
        "id": "r6-b2McLTM48",
        "outputId": "60c2edc1-5278-4e03-ec62-c5f3e3b8b96c"
      },
      "execution_count": 7,
      "outputs": [
        {
          "output_type": "stream",
          "name": "stdout",
          "text": [
            "<class 'int'>\n"
          ]
        }
      ]
    },
    {
      "cell_type": "code",
      "source": [
        "nama = input(\"Masukkan nama kamu: \")\n",
        "print(\"Halo,\", nama)"
      ],
      "metadata": {
        "colab": {
          "base_uri": "https://localhost:8080/"
        },
        "id": "NNKS4w3PUH9F",
        "outputId": "8209b0e2-9ff7-414d-fd24-92cb20386fc8"
      },
      "execution_count": 8,
      "outputs": [
        {
          "output_type": "stream",
          "name": "stdout",
          "text": [
            "Masukkan nama kamu: Roby\n",
            "Halo, Roby\n"
          ]
        }
      ]
    },
    {
      "cell_type": "code",
      "source": [
        "nilai = [70, 85, 90, 65]\n",
        "print(max(nilai))  # Output: 90\n",
        "print(min(nilai))  # Output: 65\n"
      ],
      "metadata": {
        "colab": {
          "base_uri": "https://localhost:8080/"
        },
        "id": "y8Y8Y7vjU2d7",
        "outputId": "f78812f6-8cad-49b4-b98a-027d233ba0f1"
      },
      "execution_count": 9,
      "outputs": [
        {
          "output_type": "stream",
          "name": "stdout",
          "text": [
            "90\n",
            "65\n"
          ]
        }
      ]
    },
    {
      "cell_type": "code",
      "source": [
        "for i in range(5):\n",
        "    print(i)\n",
        "# Output: 0 1 2 3 4\n"
      ],
      "metadata": {
        "colab": {
          "base_uri": "https://localhost:8080/"
        },
        "id": "AtOvFG2_XCY7",
        "outputId": "a8d0173f-7f9d-4f63-dd13-4117e7c16ed8"
      },
      "execution_count": 12,
      "outputs": [
        {
          "output_type": "stream",
          "name": "stdout",
          "text": [
            "0\n",
            "1\n",
            "2\n",
            "3\n",
            "4\n"
          ]
        }
      ]
    },
    {
      "cell_type": "code",
      "source": [
        "# Fungsi untuk menilai mahasiswa\n",
        "def penilaian_mahasiswa(data_mahasiswa):\n",
        "    hasil = []             # list untuk menyimpan hasil akhir\n",
        "    kategori_set = set()   # set untuk menyimpan kategori unik\n",
        "    rata_dict = {}         # dictionary untuk menyimpan rata-rata tiap mahasiswa\n",
        "\n",
        "    # Perulangan for → menelusuri tiap mahasiswa dalam data\n",
        "    for nama, nilai in data_mahasiswa:  # tuple (nama, [nilai])\n",
        "        rata = sum(nilai) / len(nilai)  # menghitung rata-rata\n",
        "        kategori = \"\"  # string untuk menyimpan kategori\n",
        "\n",
        "        # Percabangan menentukan kategori nilai\n",
        "        if rata >= 85:\n",
        "            kategori = \"A\"\n",
        "        elif rata >= 70:\n",
        "            kategori = \"B\"\n",
        "        elif rata >= 55:\n",
        "            kategori = \"C\"\n",
        "        else:\n",
        "            kategori = \"D\"\n",
        "\n",
        "        # Boolean: True jika lulus, False jika tidak\n",
        "        lulus = True if kategori in (\"A\", \"B\", \"C\") else False\n",
        "\n",
        "        # Simpan data ke struktur data\n",
        "        hasil.append((nama, rata, kategori, lulus))  # tuple\n",
        "        kategori_set.add(kategori)                   # set\n",
        "        rata_dict[nama] = rata                       # dictionary\n",
        "\n",
        "    # Menampilkan hasil dengan perulangan for\n",
        "    print(\"=== HASIL PENILAIAN MAHASISWA ===\")\n",
        "    for data in hasil:\n",
        "        nama, rata, kategori, lulus = data\n",
        "        print(f\"Nama: {nama} | Rata-rata: {rata:.2f} | Kategori: {kategori} | Lulus: {lulus}\")\n",
        "\n",
        "    print(\"\\nKategori nilai yang digunakan:\", kategori_set)\n",
        "    print(\"Data rata-rata mahasiswa:\", rata_dict)\n",
        "\n",
        "    # Perulangan while untuk menampilkan mahasiswa dengan nilai di bawah 70\n",
        "    print(\"\\n=== Mahasiswa yang perlu remedial ===\")\n",
        "    i = 0\n",
        "    while i < len(hasil):\n",
        "        if hasil[i][1] < 70:\n",
        "            print(f\"- {hasil[i][0]} (Rata-rata: {hasil[i][1]:.2f})\")\n",
        "        i += 1\n",
        "\n",
        "\n",
        "# Data mahasiswa: (nama, [nilai-nilai]) → tuple berisi list\n",
        "data_mahasiswa = [\n",
        "    (\"Andi\", [90, 85, 88]),\n",
        "    (\"Budi\", [70, 68, 72]),\n",
        "    (\"Citra\", [55, 60, 58]),\n",
        "    (\"Dewi\", [40, 50, 45])\n",
        "]\n",
        "\n",
        "# Pemanggilan fungsi\n",
        "penilaian_mahasiswa(data_mahasiswa)\n"
      ],
      "metadata": {
        "colab": {
          "base_uri": "https://localhost:8080/"
        },
        "id": "x6vVMvjxWlVP",
        "outputId": "7ab20eab-8917-4590-bb27-d7286d449ad7"
      },
      "execution_count": 11,
      "outputs": [
        {
          "output_type": "stream",
          "name": "stdout",
          "text": [
            "=== HASIL PENILAIAN MAHASISWA ===\n",
            "Nama: Andi | Rata-rata: 87.67 | Kategori: A | Lulus: True\n",
            "Nama: Budi | Rata-rata: 70.00 | Kategori: B | Lulus: True\n",
            "Nama: Citra | Rata-rata: 57.67 | Kategori: C | Lulus: True\n",
            "Nama: Dewi | Rata-rata: 45.00 | Kategori: D | Lulus: False\n",
            "\n",
            "Kategori nilai yang digunakan: {'D', 'B', 'A', 'C'}\n",
            "Data rata-rata mahasiswa: {'Andi': 87.66666666666667, 'Budi': 70.0, 'Citra': 57.666666666666664, 'Dewi': 45.0}\n",
            "\n",
            "=== Mahasiswa yang perlu remedial ===\n",
            "- Citra (Rata-rata: 57.67)\n",
            "- Dewi (Rata-rata: 45.00)\n"
          ]
        }
      ]
    }
  ]
}
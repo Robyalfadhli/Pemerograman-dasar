{
  "nbformat": 4,
  "nbformat_minor": 0,
  "metadata": {
    "colab": {
      "provenance": [],
      "authorship_tag": "ABX9TyNsopCSJYdVehJNHc+Foiid",
      "include_colab_link": true
    },
    "kernelspec": {
      "name": "python3",
      "display_name": "Python 3"
    },
    "language_info": {
      "name": "python"
    }
  },
  "cells": [
    {
      "cell_type": "markdown",
      "metadata": {
        "id": "view-in-github",
        "colab_type": "text"
      },
      "source": [
        "<a href=\"https://colab.research.google.com/github/Robyalfadhli/Pemerograman-dasar/blob/main/pratikum_3.ipynb\" target=\"_parent\"><img src=\"https://colab.research.google.com/assets/colab-badge.svg\" alt=\"Open In Colab\"/></a>"
      ]
    },
    {
      "cell_type": "code",
      "source": [
        "total = input(\"Berapa porsi makan yang Anda beli? : \")\n",
        "Nama = input(\"Siapa Nama Pelanggan ? : \")"
      ],
      "metadata": {
        "colab": {
          "base_uri": "https://localhost:8080/"
        },
        "id": "O8qC_Op5ZSlU",
        "outputId": "eb23a566-2c81-44c6-a914-b6f57f3d8e39"
      },
      "execution_count": null,
      "outputs": [
        {
          "name": "stdout",
          "output_type": "stream",
          "text": [
            "Berapa porsi makan yang Anda beli? : 100\n",
            "Siapa Nama Pelanggan ? : Roby\n"
          ]
        }
      ]
    },
    {
      "cell_type": "code",
      "execution_count": null,
      "metadata": {
        "colab": {
          "base_uri": "https://localhost:8080/"
        },
        "id": "jClVVW1fYGhJ",
        "outputId": "e8c18b3a-cfd0-41e9-c4a4-82c90fcd0a20"
      },
      "outputs": [
        {
          "output_type": "stream",
          "name": "stdout",
          "text": [
            "Roby sedang memesan Mi ayam bakso\n"
          ]
        }
      ],
      "source": [
        "food = \"Mi ayam bakso\"\n",
        "print(\"Roby sedang memesan\", food)"
      ]
    },
    {
      "cell_type": "code",
      "source": [
        "food = \"Mi ayam bakso\"\n",
        "print(\"Roby sedang memesan\", food)\n",
        "print(\"Roby sedang memesan \" + food)\n",
        "print(\"Roby sedang memesan %s\" % (food))"
      ],
      "metadata": {
        "colab": {
          "base_uri": "https://localhost:8080/"
        },
        "id": "SAKXkVLHZHKF",
        "outputId": "52e333e4-f35d-4478-9fcc-109158b8c52f"
      },
      "execution_count": null,
      "outputs": [
        {
          "output_type": "stream",
          "name": "stdout",
          "text": [
            "Roby sedang memesan Mi ayam bakso\n",
            "Roby sedang memesan Mi ayam bakso\n",
            "Roby sedang memesan Mi ayam bakso\n"
          ]
        }
      ]
    },
    {
      "cell_type": "code",
      "source": [
        "a = 20\n",
        "b = 5\n",
        "print(\"Penjumlahan:\", a + b)\n",
        "print(\"Pengurangan:\", a - b)\n",
        "print(\"Perkalian:\", a * b)\n",
        "print(\"Pembagian:\", a / b)\n"
      ],
      "metadata": {
        "colab": {
          "base_uri": "https://localhost:8080/"
        },
        "id": "elHfnuPrbrLk",
        "outputId": "9394e450-7e7d-4c34-93b2-ffad4c47ed2f"
      },
      "execution_count": null,
      "outputs": [
        {
          "output_type": "stream",
          "name": "stdout",
          "text": [
            "Penjumlahan: 25\n",
            "Pengurangan: 15\n",
            "Perkalian: 100\n",
            "Pembagian: 4.0\n"
          ]
        }
      ]
    },
    {
      "cell_type": "code",
      "source": [
        "harga_makan = int(input(\"Berapa harga mi ayam per porsi? \"))\n",
        "jumlah_makan = int(input(\"Berapa porsi yang Anda beli? \"))\n",
        "total_makan = harga_makan * jumlah_makan\n",
        "\n",
        "print(f\"Harga makan per porsi = {harga_makan}, totalnya adalah {total_makan}\")"
      ],
      "metadata": {
        "colab": {
          "base_uri": "https://localhost:8080/"
        },
        "id": "Oo_lITiwbw4E",
        "outputId": "f2f91838-f729-4860-8c82-a1e77e02558d"
      },
      "execution_count": null,
      "outputs": [
        {
          "output_type": "stream",
          "name": "stdout",
          "text": [
            "Berapa harga mi ayam per porsi? 15000\n",
            "Berapa porsi yang Anda beli? 2\n",
            "Harga makan per porsi = 15000, totalnya adalah 30000\n"
          ]
        }
      ]
    },
    {
      "cell_type": "code",
      "source": [
        "# konversi waktu\n",
        "total_detik = 358200\n",
        "\n",
        "jam = total_detik // 3600\n",
        "sisa_detik = total_detik % 3600\n",
        "menit = sisa_detik // 60\n",
        "detik = sisa_detik % 60\n",
        "\n",
        "print(f\"Hasil Konversi: {jam} Jam, {menit} Menit, {detik} Detik\")"
      ],
      "metadata": {
        "colab": {
          "base_uri": "https://localhost:8080/"
        },
        "id": "ls9kOO9VdY_c",
        "outputId": "be5d59ae-419e-4dbf-9627-60a0e5d78aad"
      },
      "execution_count": null,
      "outputs": [
        {
          "output_type": "stream",
          "name": "stdout",
          "text": [
            "Hasil Konversi: 99 Jam, 30 Menit, 0 Detik\n"
          ]
        }
      ]
    },
    {
      "cell_type": "code",
      "source": [
        "tugas = 80\n",
        "uts = 70\n",
        "uas = 90\n",
        "nilai_akhir = (0.3 * tugas) + (0.3 * uts) + (0.4 * uas)\n",
        "print(\"Nilai akhir =\", nilai_akhir)"
      ],
      "metadata": {
        "colab": {
          "base_uri": "https://localhost:8080/"
        },
        "id": "dc90rIChdpmz",
        "outputId": "2837e0e3-2b5d-410f-ef52-83833abafc11"
      },
      "execution_count": null,
      "outputs": [
        {
          "output_type": "stream",
          "name": "stdout",
          "text": [
            "Nilai akhir = 81.0\n"
          ]
        }
      ]
    },
    {
      "cell_type": "code",
      "source": [
        "tugas = float(input(\"Masukkan nilai tugas: \"))\n",
        "uts = float(input(\"Masukkan nilai UTS: \"))\n",
        "uas = float(input(\"Masukkan nilai UAS: \"))\n",
        "kuis = float(input(\"Masukkan nilai kuis: \"))\n",
        "praktikum = float(input(\"Masukkan nilai praktikum: \"))\n",
        "\n",
        "nilai_mahasiswa = (0.2 * tugas) + (0.25 * uts) + (0.3 * uas) + (0.15 * kuis) + (0.1 * praktikum)\n",
        "standard_kelulusan = float(input(\"Masukkan nilai standar kelulusan: \"))\n",
        "apakah_lulus = nilai_mahasiswa >= standard_kelulusan\n",
        "perlu_remedial = nilai_mahasiswa < standard_kelulusan\n",
        "\n",
        "print(f\"Nilai Mahasiswa: {nilai_mahasiswa}\")\n",
        "print(f\"Standar Kelulusan: {standard_kelulusan}\")\n",
        "print(f\"Apakah Mahasiswa Lulus? {apakah_lulus}\")\n",
        "print(f\"Perlu Remedial? {perlu_remedial}\")"
      ],
      "metadata": {
        "colab": {
          "base_uri": "https://localhost:8080/"
        },
        "id": "wJ4XvxeBeRFr",
        "outputId": "14fdcc92-47d1-445c-de7e-d2da1e51c13d"
      },
      "execution_count": null,
      "outputs": [
        {
          "output_type": "stream",
          "name": "stdout",
          "text": [
            "Masukkan nilai tugas: 90\n",
            "Masukkan nilai UTS: 85\n",
            "Masukkan nilai UAS: 85\n",
            "Masukkan nilai kuis: 100\n",
            "Masukkan nilai praktikum: 100\n",
            "Masukkan nilai standar kelulusan: 80\n",
            "Nilai Mahasiswa: 89.75\n",
            "Standar Kelulusan: 80.0\n",
            "Apakah Mahasiswa Lulus? True\n",
            "Perlu Remedial? False\n"
          ]
        }
      ]
    },
    {
      "cell_type": "code",
      "source": [
        "belanja = 2000000\n",
        "diskon = (0, 0.35 * belanja)[belanja > 1000000]\n",
        "\n",
        "total_harga = belanja - diskon\n",
        "\n",
        "print(\"Total harga setelah diskon =\", total_harga)"
      ],
      "metadata": {
        "colab": {
          "base_uri": "https://localhost:8080/"
        },
        "id": "GyNZS2P8fPBU",
        "outputId": "b18c39e3-df80-4fc7-9c37-76507545e6a8"
      },
      "execution_count": 32,
      "outputs": [
        {
          "output_type": "stream",
          "name": "stdout",
          "text": [
            "Total harga setelah diskon = 1300000.0\n"
          ]
        }
      ]
    },
    {
      "cell_type": "code",
      "source": [
        "def is_tahun_kabisat(tahun):\n",
        "    if tahun % 400 == 0:\n",
        "        return True\n",
        "    elif tahun % 4 == 0 and tahun % 100 != 0:\n",
        "        return True\n",
        "    else:\n",
        "        return False\n",
        "\n",
        "tahun_input = int(input(\"Masukkan tahun: \"))\n",
        "\n",
        "if is_tahun_kabisat(tahun_input):\n",
        "    print(f\"{tahun_input} adalah tahun kabisat.\")\n",
        "else:\n",
        "    print(f\"{tahun_input} bukan tahun kabisat.\")\n"
      ],
      "metadata": {
        "colab": {
          "base_uri": "https://localhost:8080/"
        },
        "id": "azuBod4fg-Tk",
        "outputId": "39522f13-d275-49f1-bddc-dc87eb0f9fe6"
      },
      "execution_count": null,
      "outputs": [
        {
          "output_type": "stream",
          "name": "stdout",
          "text": [
            "Masukkan tahun: 2400\n",
            "2400 adalah tahun kabisat.\n"
          ]
        }
      ]
    }
  ]
}
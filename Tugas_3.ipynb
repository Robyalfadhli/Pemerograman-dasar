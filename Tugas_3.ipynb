{
  "nbformat": 4,
  "nbformat_minor": 0,
  "metadata": {
    "colab": {
      "provenance": [],
      "authorship_tag": "ABX9TyMM8sb+vLtmHGOyL3fatxh/",
      "include_colab_link": true
    },
    "kernelspec": {
      "name": "python3",
      "display_name": "Python 3"
    },
    "language_info": {
      "name": "python"
    }
  },
  "cells": [
    {
      "cell_type": "markdown",
      "metadata": {
        "id": "view-in-github",
        "colab_type": "text"
      },
      "source": [
        "<a href=\"https://colab.research.google.com/github/Robyalfadhli/Pemerograman-dasar/blob/main/Tugas_3.ipynb\" target=\"_parent\"><img src=\"https://colab.research.google.com/assets/colab-badge.svg\" alt=\"Open In Colab\"/></a>"
      ]
    },
    {
      "cell_type": "code",
      "source": [
        "jumlah_item = int(input(\"Masukkan jumlah item yang dibeli: \"))\n",
        "\n",
        "items = []\n",
        "for i in range(jumlah_item):\n",
        "    harga = float(input(f\"Masukkan harga item ke-{i+1}: Rp \"))\n",
        "    items.append(harga)\n",
        "is_member = input(\"Apakah pelanggan member? (ya/tidak): \").lower() == \"ya\"\n",
        "subtotal = sum(items)\n",
        "eligible_discount = is_member and subtotal > 100000\n",
        "discount = 0.15 * subtotal if eligible_discount else 0\n",
        "harga_setelah_diskon = subtotal - discount\n",
        "ppn = 0.11 * harga_setelah_diskon\n",
        "total_akhir = harga_setelah_diskon + ppn\n",
        "\n",
        "print(\"\\n=== Struk Belanja ===\")\n",
        "print(f\"Subtotal: Rp {subtotal:,.0f}\")\n",
        "print(f\"Diskon: Rp {discount:,.0f}\")\n",
        "print(f\"Harga Setelah Diskon: Rp {harga_setelah_diskon:,.0f}\")\n",
        "print(f\"PPN (11%): Rp {ppn:,.0f}\")\n",
        "print(f\"Total Akhir: Rp {total_akhir:,.0f}\")\n"
      ],
      "metadata": {
        "colab": {
          "base_uri": "https://localhost:8080/"
        },
        "id": "KOk6gpuiX2Gs",
        "outputId": "d9181292-bb7d-42a6-fcfd-056f52198a74"
      },
      "execution_count": 5,
      "outputs": [
        {
          "output_type": "stream",
          "name": "stdout",
          "text": [
            "Masukkan jumlah item yang dibeli: 2\n",
            "Masukkan harga item ke-1: Rp 75000\n",
            "Masukkan harga item ke-2: Rp 45000\n",
            "Apakah pelanggan member? (ya/tidak): ya\n",
            "\n",
            "=== Struk Belanja ===\n",
            "Subtotal: Rp 120,000\n",
            "Diskon: Rp 18,000\n",
            "Harga Setelah Diskon: Rp 102,000\n",
            "PPN (11%): Rp 11,220\n",
            "Total Akhir: Rp 113,220\n"
          ]
        }
      ]
    }
  ]
}
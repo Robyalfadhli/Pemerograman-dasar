{
  "nbformat": 4,
  "nbformat_minor": 0,
  "metadata": {
    "colab": {
      "provenance": [],
      "authorship_tag": "ABX9TyNwRVtmRBWgc+eoVpzGfUzP",
      "include_colab_link": true
    },
    "kernelspec": {
      "name": "python3",
      "display_name": "Python 3"
    },
    "language_info": {
      "name": "python"
    }
  },
  "cells": [
    {
      "cell_type": "markdown",
      "metadata": {
        "id": "view-in-github",
        "colab_type": "text"
      },
      "source": [
        "<a href=\"https://colab.research.google.com/github/Robyalfadhli/Pemerograman-dasar/blob/main/Tugas_3.ipynb\" target=\"_parent\"><img src=\"https://colab.research.google.com/assets/colab-badge.svg\" alt=\"Open In Colab\"/></a>"
      ]
    },
    {
      "cell_type": "code",
      "source": [
        "# Program Kasir Sederhana (Interaktif)\n",
        "\n",
        "# Input jumlah item yang dibeli\n",
        "jumlah_item = int(input(\"Masukkan jumlah item yang dibeli: \"))\n",
        "\n",
        "# Input harga tiap item\n",
        "items = []\n",
        "for i in range(jumlah_item):\n",
        "    harga = float(input(f\"Masukkan harga item ke-{i+1}: Rp \"))\n",
        "    items.append(harga)\n",
        "\n",
        "# Input status keanggotaan\n",
        "is_member = input(\"Apakah pelanggan member? (ya/tidak): \").lower() == \"ya\"\n",
        "\n",
        "# 1. Hitung Subtotal\n",
        "subtotal = sum(items)\n",
        "\n",
        "# 2. Evaluasi Syarat Diskon\n",
        "eligible_discount = is_member and subtotal > 100000\n",
        "\n",
        "# 3. Hitung Jumlah Diskon\n",
        "discount = 0.15 * subtotal if eligible_discount else 0\n",
        "\n",
        "# 4. Hitung Harga Setelah Diskon\n",
        "harga_setelah_diskon = subtotal - discount\n",
        "\n",
        "# 5. Hitung PPN (11% dari harga setelah diskon)\n",
        "ppn = 0.11 * harga_setelah_diskon\n",
        "\n",
        "# 6. Hitung Total Akhir\n",
        "total_akhir = harga_setelah_diskon + ppn\n",
        "\n",
        "# Output Struk\n",
        "print(\"\\n=== Struk Belanja ===\")\n",
        "print(f\"Subtotal: Rp {subtotal:,.0f}\")\n",
        "print(f\"Diskon: Rp {discount:,.0f}\")\n",
        "print(f\"Harga Setelah Diskon: Rp {harga_setelah_diskon:,.0f}\")\n",
        "print(f\"PPN (11%): Rp {ppn:,.0f}\")\n",
        "print(f\"Total Akhir: Rp {total_akhir:,.0f}\")\n"
      ],
      "metadata": {
        "colab": {
          "base_uri": "https://localhost:8080/"
        },
        "id": "KOk6gpuiX2Gs",
        "outputId": "246364f9-486a-470f-854e-955f743ca773"
      },
      "execution_count": 4,
      "outputs": [
        {
          "output_type": "stream",
          "name": "stdout",
          "text": [
            "Masukkan jumlah item yang dibeli: 2\n",
            "Masukkan harga item ke-1: Rp 75000\n",
            "Masukkan harga item ke-2: Rp 45000\n",
            "Apakah pelanggan member? (ya/tidak): ya\n",
            "\n",
            "=== Struk Belanja ===\n",
            "Subtotal: Rp 120,000\n",
            "Diskon: Rp 18,000\n",
            "Harga Setelah Diskon: Rp 102,000\n",
            "PPN (11%): Rp 11,220\n",
            "Total Akhir: Rp 113,220\n"
          ]
        }
      ]
    }
  ]
}
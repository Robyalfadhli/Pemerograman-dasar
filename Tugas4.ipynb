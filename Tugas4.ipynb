{
  "nbformat": 4,
  "nbformat_minor": 0,
  "metadata": {
    "colab": {
      "provenance": [],
      "authorship_tag": "ABX9TyNJ/5ctIrokgT0T0/fcgfgh",
      "include_colab_link": true
    },
    "kernelspec": {
      "name": "python3",
      "display_name": "Python 3"
    },
    "language_info": {
      "name": "python"
    }
  },
  "cells": [
    {
      "cell_type": "markdown",
      "metadata": {
        "id": "view-in-github",
        "colab_type": "text"
      },
      "source": [
        "<a href=\"https://colab.research.google.com/github/Robyalfadhli/Pemerograman-dasar/blob/main/Tugas4.ipynb\" target=\"_parent\"><img src=\"https://colab.research.google.com/assets/colab-badge.svg\" alt=\"Open In Colab\"/></a>"
      ]
    },
    {
      "cell_type": "code",
      "execution_count": null,
      "metadata": {
        "id": "KdZWZ7kRgrui",
        "colab": {
          "base_uri": "https://localhost:8080/"
        },
        "outputId": "b55966bf-13e1-4dfb-c09b-5d3b9a57e82f"
      },
      "outputs": [
        {
          "output_type": "stream",
          "name": "stdout",
          "text": [
            "Masukkan sebuah angka: 25\n",
            "Kelipatan 5\n"
          ]
        }
      ],
      "source": [
        "angka = int(input(\"Masukkan sebuah angka: \"))\n",
        "if angka % 5 == 0:\n",
        "    print(\"Kelipatan 5\")\n",
        "else:\n",
        "    print(\"Bukan kelipatan 5\")"
      ]
    },
    {
      "cell_type": "code",
      "source": [
        "tahun = int(input(\"Masukkan tahun: \"))\n",
        "\n",
        "if tahun % 400 == 0:\n",
        "    print(\"Tahun kabisat\")\n",
        "elif tahun % 4 == 0 and tahun % 100 != 0:\n",
        "    print(\"Tahun kabisat\")\n",
        "else:\n",
        "    print(\"Bukan tahun kabisat\")\n"
      ],
      "metadata": {
        "colab": {
          "base_uri": "https://localhost:8080/"
        },
        "id": "WZu6mAjik1ji",
        "outputId": "0552d940-cc90-40da-cc45-356a0425c1bf"
      },
      "execution_count": null,
      "outputs": [
        {
          "output_type": "stream",
          "name": "stdout",
          "text": [
            "Masukkan tahun: 2000\n",
            "Tahun kabisat\n"
          ]
        }
      ]
    },
    {
      "cell_type": "code",
      "source": [
        "a = int(input(\"Masukkan angka pertama: \"))\n",
        "b = int(input(\"Masukkan angka kedua: \"))\n",
        "hasil = a + b\n",
        "\n",
        "jawaban = int(input(f\"Berapakah {a} + {b}? \"))\n",
        "\n",
        "if jawaban == hasil:\n",
        "    print(\"Jawaban benar!\")\n",
        "else:\n",
        "    print(\"Jawaban salah, hasil yang benar adalah\", hasil)\n"
      ],
      "metadata": {
        "colab": {
          "base_uri": "https://localhost:8080/"
        },
        "id": "z3NvQqFDlD83",
        "outputId": "079b7af9-72fa-4eec-f864-ac2a6c2060b2"
      },
      "execution_count": null,
      "outputs": [
        {
          "output_type": "stream",
          "name": "stdout",
          "text": [
            "Masukkan angka pertama: 10\n",
            "Masukkan angka kedua: 5\n",
            "Berapakah 10 + 5? 15\n",
            "Jawaban benar!\n"
          ]
        }
      ]
    },
    {
      "cell_type": "code",
      "source": [
        "bulan = int(input(\"Masukkan angka bulan (1-12): \"))\n",
        "\n",
        "if bulan == 1:\n",
        "    print(\"Januari\")\n",
        "elif bulan == 2:\n",
        "    print(\"Februari\")\n",
        "elif bulan == 3:\n",
        "    print(\"Maret\")\n",
        "elif bulan == 4:\n",
        "    print(\"April\")\n",
        "elif bulan == 5:\n",
        "    print(\"Mei\")\n",
        "elif bulan == 6:\n",
        "    print(\"Juni\")\n",
        "elif bulan == 7:\n",
        "    print(\"Juli\")\n",
        "elif bulan == 8:\n",
        "    print(\"Agustus\")\n",
        "elif bulan == 9:\n",
        "    print(\"September\")\n",
        "elif bulan == 10:\n",
        "    print(\"Oktober\")\n",
        "elif bulan == 11:\n",
        "    print(\"November\")\n",
        "elif bulan == 12:\n",
        "    print(\"Desember\")\n",
        "else:\n",
        "    print(\"Input salah\")\n"
      ],
      "metadata": {
        "colab": {
          "base_uri": "https://localhost:8080/"
        },
        "id": "WgJgp44ElgUV",
        "outputId": "7379dd4a-099c-4f5f-f012-b9c4afe0004c"
      },
      "execution_count": null,
      "outputs": [
        {
          "output_type": "stream",
          "name": "stdout",
          "text": [
            "Masukkan angka bulan (1-12): 11\n",
            "November\n"
          ]
        }
      ]
    },
    {
      "cell_type": "code",
      "source": [
        "jam = int(input(\"Masukkan jam (0-23): \"))\n",
        "\n",
        "if 0 <= jam <= 11:\n",
        "    print(\"Selamat Pagi\")\n",
        "elif 12 <= jam <= 15:\n",
        "    print(\"Selamat Siang\")\n",
        "elif 16 <= jam <= 18:\n",
        "    print(\"Selamat Sore\")\n",
        "elif 19 <= jam <= 23:\n",
        "    print(\"Selamat Malam\")\n",
        "else:\n",
        "    print(\"Input salah\")\n"
      ],
      "metadata": {
        "colab": {
          "base_uri": "https://localhost:8080/"
        },
        "id": "S1lYSAMflr-K",
        "outputId": "04577050-ebc8-471e-890a-9f82ec729c6f"
      },
      "execution_count": null,
      "outputs": [
        {
          "output_type": "stream",
          "name": "stdout",
          "text": [
            "Masukkan jam (0-23): 12\n",
            "Selamat Siang\n"
          ]
        }
      ]
    },
    {
      "cell_type": "code",
      "source": [
        "print(\"=\"*30)\n",
        "print(\"SELAMAT DATANG DI KAFE GENZYY\")\n",
        "print(\"=\"*30)\n",
        "print(\"Menu Minuman & Pilihannya:\")\n",
        "print(\"1. Kopi Hitam   : Rp 12.000\")\n",
        "print(\"2. Teh Manis    : Rp  5.000\")\n",
        "print(\"3. Es Teh Bakar : Rp 15.000\")\n",
        "print(\"4. Jus Jambu    : Rp 20.000\")\n",
        "print(\"=\"*30)\n",
        "\n",
        "pilihan_str = input(\"Silakan masukkan nomor pilihan Anda (1-4): \")\n",
        "pilihan = int(pilihan_str)\n",
        "nama_pesanan = \"\"\n",
        "harga = 0\n",
        "\n",
        "if pilihan == 1:\n",
        "    nama_pesanan = \"Kopi Hitam\"\n",
        "    harga = 12000\n",
        "elif pilihan == 2:\n",
        "    nama_pesanan = \"Teh Manis\"\n",
        "    harga = 5000\n",
        "elif pilihan == 3:\n",
        "    nama_pesanan = \"Es Teh Bakar\"\n",
        "    harga = 15000\n",
        "elif pilihan == 4:\n",
        "    nama_pesanan = \"Jus Jambu\"\n",
        "    harga = 20000\n",
        "else:\n",
        "    print(\"Maaf, pilihan menu tidak valid. Silakan jalankan ulang program.\")\n",
        "    exit()\n",
        "\n",
        "# Terapkan diskon sesuai kategori\n",
        "if harga >= 20000:\n",
        "    diskon = 0.70   # diskon 70%\n",
        "elif harga >= 15000:\n",
        "    diskon = 0.50   # diskon 50%\n",
        "else:\n",
        "    diskon = 0.30   # diskon 30%\n",
        "\n",
        "potongan = harga * diskon\n",
        "total_bayar = harga - potongan\n",
        "\n",
        "print(f\"\\nAnda memesan {nama_pesanan} dengan harga Rp {harga}\")\n",
        "print(f\"Diskon {int(diskon*100)}%: Rp {potongan}\")\n",
        "print(f\"Total yang harus dibayar: Rp {total_bayar}\")\n",
        "\n",
        "uang_dibayar = int(input(\"\\nMasukkan jumlah uang Anda: Rp \"))\n",
        "if uang_dibayar >= total_bayar:\n",
        "    kembalian = uang_dibayar - total_bayar\n",
        "    print(\"\\n=== Struk Pembayaran ===\")\n",
        "    print(f\"Pesanan Anda: {nama_pesanan}\")\n",
        "    print(f\"Harga: Rp {harga}\")\n",
        "    print(f\"Diskon: Rp {potongan}\")\n",
        "    print(f\"Total Bayar: Rp {total_bayar}\")\n",
        "    print(f\"Uang Dibayar: Rp {uang_dibayar}\")\n",
        "    print(f\"Kembalian: Rp {kembalian}\")\n",
        "    print(\"========================\")\n",
        "    print(\"Terima kasih telah berbelanja!\")\n",
        "else:\n",
        "    print(\"Maaf, uang Anda kurang sebesar Rp\", total_bayar - uang_dibayar)\n"
      ],
      "metadata": {
        "colab": {
          "base_uri": "https://localhost:8080/"
        },
        "id": "aQ1oRPhHmAHk",
        "outputId": "d0f76fde-3978-4955-ddac-8d4984bcd838"
      },
      "execution_count": null,
      "outputs": [
        {
          "output_type": "stream",
          "name": "stdout",
          "text": [
            "==============================\n",
            "SELAMAT DATANG DI KAFE GENZYY\n",
            "==============================\n",
            "Menu Minuman & Pilihannya:\n",
            "1. Kopi Hitam   : Rp 12.000\n",
            "2. Teh Manis    : Rp  5.000\n",
            "3. Es Teh Bakar : Rp 15.000\n",
            "4. Jus Jambu    : Rp 20.000\n",
            "==============================\n",
            "Silakan masukkan nomor pilihan Anda (1-4): 1\n",
            "\n",
            "Anda memesan Kopi Hitam dengan harga Rp 12000\n",
            "Diskon 30%: Rp 3600.0\n",
            "Total yang harus dibayar: Rp 8400.0\n",
            "\n",
            "Masukkan jumlah uang Anda: Rp 10000\n",
            "\n",
            "=== Struk Pembayaran ===\n",
            "Pesanan Anda: Kopi Hitam\n",
            "Harga: Rp 12000\n",
            "Diskon: Rp 3600.0\n",
            "Total Bayar: Rp 8400.0\n",
            "Uang Dibayar: Rp 10000\n",
            "Kembalian: Rp 1600.0\n",
            "========================\n",
            "Terima kasih telah berbelanja!\n"
          ]
        }
      ]
    }
  ]
}
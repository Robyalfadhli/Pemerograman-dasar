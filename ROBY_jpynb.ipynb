{
  "nbformat": 4,
  "nbformat_minor": 0,
  "metadata": {
    "colab": {
      "provenance": [],
      "authorship_tag": "ABX9TyMmqAMKgLZhRDS1NTUkIOuo",
      "include_colab_link": true
    },
    "kernelspec": {
      "name": "python3",
      "display_name": "Python 3"
    },
    "language_info": {
      "name": "python"
    }
  },
  "cells": [
    {
      "cell_type": "markdown",
      "metadata": {
        "id": "view-in-github",
        "colab_type": "text"
      },
      "source": [
        "<a href=\"https://colab.research.google.com/github/Robyalfadhli/Pemerograman-dasar/blob/main/ROBY_jpynb.ipynb\" target=\"_parent\"><img src=\"https://colab.research.google.com/assets/colab-badge.svg\" alt=\"Open In Colab\"/></a>"
      ]
    },
    {
      "cell_type": "code",
      "execution_count": null,
      "metadata": {
        "colab": {
          "base_uri": "https://localhost:8080/"
        },
        "id": "BkUsvXbiRHfS",
        "outputId": "12c321ba-0c98-4085-d6f9-702c4c3a1abe"
      },
      "outputs": [
        {
          "output_type": "stream",
          "name": "stdout",
          "text": [
            "Roby\n",
            "19\n",
            "RPE\n",
            "3\n",
            "pemerogaran dasar\n",
            "False\n"
          ]
        }
      ],
      "source": [
        "#biodata saya\n",
        "\n",
        "nama = \"Roby\"\n",
        "umur = 19\n",
        "jurusan = \"RPE\"\n",
        "semester = 3\n",
        "matakuliah = \"pemerogaran dasar\"\n",
        "status_lulus = False\n",
        "\n",
        "\n",
        "print (nama)\n",
        "print (umur)\n",
        "print (jurusan)\n",
        "print (semester)\n",
        "print (matakuliah)\n",
        "print (status_lulus)\n"
      ]
    }
  ]
}